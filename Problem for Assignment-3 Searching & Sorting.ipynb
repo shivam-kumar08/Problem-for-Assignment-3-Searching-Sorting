{
 "cells": [
  {
   "cell_type": "code",
   "execution_count": 1,
   "id": "f3944dc8",
   "metadata": {},
   "outputs": [
    {
     "name": "stdout",
     "output_type": "stream",
     "text": [
      "Element 11 found at index 5\n"
     ]
    }
   ],
   "source": [
    "class BinarySearch:\n",
    "    def __init__(self, sorted_list):\n",
    "        self.sorted_list = sorted_list\n",
    "\n",
    "    def search(self, target):\n",
    "        left, right = 0, len(self.sorted_list) - 1\n",
    "\n",
    "        while left <= right:\n",
    "            mid = left + (right - left) // 2  \n",
    "            mid_value = self.sorted_list[mid]\n",
    "\n",
    "            if mid_value == target:\n",
    "                return mid \n",
    "            elif mid_value < target:\n",
    "                left = mid + 1 \n",
    "            else:\n",
    "                right = mid - 1 \n",
    "\n",
    "        return -1 \n",
    "\n",
    "\n",
    "sorted_list = [1, 3, 5, 7, 9, 11, 13, 15, 17]\n",
    "binary_search = BinarySearch(sorted_list)\n",
    "target = 11\n",
    "result = binary_search.search(target)\n",
    "\n",
    "if result != -1:\n",
    "    print(f\"Element {target} found at index {result}\")\n",
    "else:\n",
    "    print(f\"Element {target} not found in the list\")\n"
   ]
  },
  {
   "cell_type": "code",
   "execution_count": 2,
   "id": "8bd15186",
   "metadata": {},
   "outputs": [
    {
     "name": "stdout",
     "output_type": "stream",
     "text": [
      "Sorted array: [5, 6, 7, 11, 12, 13]\n"
     ]
    }
   ],
   "source": [
    "class MergeSort:\n",
    "    def __init__(self, arr):\n",
    "        self.arr = arr\n",
    "\n",
    "    def merge_sort(self):\n",
    "        if len(self.arr) > 1:\n",
    "            mid = len(self.arr) // 2\n",
    "            left_half = self.arr[:mid]\n",
    "            right_half = self.arr[mid:]\n",
    "\n",
    "            left_sorter = MergeSort(left_half)\n",
    "            right_sorter = MergeSort(right_half)\n",
    "\n",
    "            left_sorter.merge_sort()\n",
    "            right_sorter.merge_sort()\n",
    "\n",
    "            i = j = k = 0\n",
    "\n",
    "            while i < len(left_half) and j < len(right_half):\n",
    "                if left_half[i] < right_half[j]:\n",
    "                    self.arr[k] = left_half[i]\n",
    "                    i += 1\n",
    "                else:\n",
    "                    self.arr[k] = right_half[j]\n",
    "                    j += 1\n",
    "                k += 1\n",
    "\n",
    "            while i < len(left_half):\n",
    "                self.arr[k] = left_half[i]\n",
    "                i += 1\n",
    "                k += 1\n",
    "\n",
    "            while j < len(right_half):\n",
    "                self.arr[k] = right_half[j]\n",
    "                j += 1\n",
    "                k += 1\n",
    "\n",
    "    def sort(self):\n",
    "        self.merge_sort()\n",
    "\n",
    "    def get_sorted_array(self):\n",
    "        return self.arr\n",
    "\n",
    "\n",
    "# Example usage:\n",
    "arr = [12, 11, 13, 5, 6, 7]\n",
    "merge_sorter = MergeSort(arr)\n",
    "merge_sorter.sort()\n",
    "sorted_arr = merge_sorter.get_sorted_array()\n",
    "print(\"Sorted array:\", sorted_arr)\n"
   ]
  },
  {
   "cell_type": "code",
   "execution_count": 3,
   "id": "525a7829",
   "metadata": {},
   "outputs": [
    {
     "name": "stdout",
     "output_type": "stream",
     "text": [
      "Sorted array: [5, 6, 7, 11, 12, 13]\n"
     ]
    }
   ],
   "source": [
    "class QuickSort:\n",
    "    def __init__(self, arr):\n",
    "        self.arr = arr\n",
    "\n",
    "    def quick_sort(self, left, right):\n",
    "        if left < right:\n",
    "            partition_index = self.partition(left, right)\n",
    "            self.quick_sort(left, partition_index - 1)\n",
    "            self.quick_sort(partition_index + 1, right)\n",
    "\n",
    "    def partition(self, left, right):\n",
    "        pivot = self.arr[right]\n",
    "        i = left - 1\n",
    "\n",
    "        for j in range(left, right):\n",
    "            if self.arr[j] <= pivot:\n",
    "                i += 1\n",
    "                self.arr[i], self.arr[j] = self.arr[j], self.arr[i]\n",
    "\n",
    "        self.arr[i + 1], self.arr[right] = self.arr[right], self.arr[i + 1]\n",
    "        return i + 1\n",
    "\n",
    "    def sort(self):\n",
    "        self.quick_sort(0, len(self.arr) - 1)\n",
    "\n",
    "    def get_sorted_array(self):\n",
    "        return self.arr\n",
    "\n",
    "\n",
    "arr = [12, 11, 13, 5, 6, 7]\n",
    "quick_sorter = QuickSort(arr)\n",
    "quick_sorter.sort()\n",
    "sorted_arr = quick_sorter.get_sorted_array()\n",
    "print(\"Sorted array:\", sorted_arr)\n"
   ]
  },
  {
   "cell_type": "code",
   "execution_count": 4,
   "id": "ae063317",
   "metadata": {},
   "outputs": [
    {
     "name": "stdout",
     "output_type": "stream",
     "text": [
      "Sorted array: [5, 6, 11, 12, 13]\n"
     ]
    }
   ],
   "source": [
    "class InsertionSort:\n",
    "    def __init__(self, arr):\n",
    "        self.arr = arr\n",
    "\n",
    "    def sort(self):\n",
    "        for i in range(1, len(self.arr)):\n",
    "            key = self.arr[i]\n",
    "            j = i - 1\n",
    "            while j >= 0 and key < self.arr[j]:\n",
    "                self.arr[j + 1] = self.arr[j]\n",
    "                j -= 1\n",
    "            self.arr[j + 1] = key\n",
    "\n",
    "    def get_sorted_array(self):\n",
    "        return self.arr\n",
    "\n",
    "\n",
    "arr = [12, 11, 13, 5, 6]\n",
    "insertion_sorter = InsertionSort(arr)\n",
    "insertion_sorter.sort()\n",
    "sorted_arr = insertion_sorter.get_sorted_array()\n",
    "print(\"Sorted array:\", sorted_arr)\n"
   ]
  },
  {
   "cell_type": "code",
   "execution_count": 6,
   "id": "2580f991",
   "metadata": {},
   "outputs": [
    {
     "name": "stdout",
     "output_type": "stream",
     "text": [
      "Sorted list: ['ant', 'cat', 'dog', 'apple', 'zebra', 'banana', 'elephant']\n"
     ]
    }
   ],
   "source": [
    "class CustomStringSort:\n",
    "    def __init__(self, string_list):\n",
    "        self.string_list = string_list\n",
    "\n",
    "    def custom_sort(self):\n",
    "        \n",
    "        sorting_key = lambda s: (len(s), s)  \n",
    "\n",
    "        self.string_list = sorted(self.string_list, key=sorting_key)\n",
    "\n",
    "    def get_sorted_list(self):\n",
    "        return self.string_list\n",
    "\n",
    "\n",
    "string_list = [\"apple\", \"banana\", \"cat\", \"dog\", \"elephant\", \"ant\", \"zebra\"]\n",
    "custom_sorter = CustomStringSort(string_list)\n",
    "custom_sorter.custom_sort()\n",
    "sorted_list = custom_sorter.get_sorted_list()\n",
    "print(\"Sorted list:\", sorted_list)\n"
   ]
  },
  {
   "cell_type": "code",
   "execution_count": null,
   "id": "6b61f2ae",
   "metadata": {},
   "outputs": [],
   "source": []
  }
 ],
 "metadata": {
  "kernelspec": {
   "display_name": "Python 3 (ipykernel)",
   "language": "python",
   "name": "python3"
  },
  "language_info": {
   "codemirror_mode": {
    "name": "ipython",
    "version": 3
   },
   "file_extension": ".py",
   "mimetype": "text/x-python",
   "name": "python",
   "nbconvert_exporter": "python",
   "pygments_lexer": "ipython3",
   "version": "3.10.9"
  }
 },
 "nbformat": 4,
 "nbformat_minor": 5
}
